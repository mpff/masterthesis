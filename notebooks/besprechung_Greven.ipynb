{
 "cells": [
  {
   "cell_type": "markdown",
   "metadata": {},
   "source": [
    "Besprechung\n",
    "===========\n",
    "\n",
    "### 1. Theory Recap\n",
    "#### a) Procrustes Mean and Fits\n",
    "$$ \\beta : [0,1] \\rightarrow \\mathbb{C}, \\quad \\beta(t) = x(t) + i y(t)) $$\n",
    "\n",
    "The **full procrustes distance** of two curves $\\beta_1, \\beta_2 : [0,1] \\rightarrow \\mathbb{C}$ is given by:\n",
    "\n",
    "$$ d_F^2(\\beta_1,\\beta_2) = \\min_{\\gamma, \\omega \\in \\mathbb{C}}|| \\beta_1 - \\gamma \\mathbb{1} - \\omega \\beta_2 || $$\n",
    "\n",
    "which we can calculate directly, by assuming $\\beta_1, \\beta_2$ to be centered i.e. $\\langle \\beta_i, \\mathbb{1} \\rangle = 1$:\n",
    "\n",
    "The full Procrustes mean is given as the function minimizing the sum of squared **full procrustes distances**:\n",
    "$$ \\hat{\\mu} = {\\arg\\min}_ $$\n",
    "\n",
    "### 2. Estimation Strategy\n"
   ]
  },
  {
   "cell_type": "code",
   "execution_count": null,
   "metadata": {},
   "outputs": [],
   "source": []
  }
 ],
 "metadata": {
  "kernelspec": {
   "display_name": "R",
   "language": "R",
   "name": "ir"
  },
  "language_info": {
   "codemirror_mode": "r",
   "file_extension": ".r",
   "mimetype": "text/x-r-source",
   "name": "R",
   "pygments_lexer": "r",
   "version": "4.0.5"
  }
 },
 "nbformat": 4,
 "nbformat_minor": 4
}

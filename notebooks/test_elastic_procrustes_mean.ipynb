{
 "cells": [
  {
   "cell_type": "code",
   "execution_count": 1,
   "metadata": {},
   "outputs": [
    {
     "name": "stderr",
     "output_type": "stream",
     "text": [
      "Warning message:\n",
      "“package ‘elasdics’ was built under R version 4.0.2”Loading required package: nlme\n",
      "This is mgcv 1.8-31. For overview type 'help(\"mgcv-package\")'.\n",
      "\n",
      "Attaching package: ‘dplyr’\n",
      "\n",
      "The following object is masked from ‘package:nlme’:\n",
      "\n",
      "    collapse\n",
      "\n",
      "The following objects are masked from ‘package:stats’:\n",
      "\n",
      "    filter, lag\n",
      "\n",
      "The following objects are masked from ‘package:base’:\n",
      "\n",
      "    intersect, setdiff, setequal, union\n",
      "\n"
     ]
    }
   ],
   "source": [
    "source(\"/home/mnl/Statistik/masterthesis/code/modify_compute_elastic_mean.R\")\n",
    "set.seed(18)\n",
    "\n",
    "# TURN WARNINGS OFF GLOBALLY, CAREFUL!\n",
    "oldw <- getOption(\"warn\")\n",
    "options(warn = -1)\n",
    "#options(warn = oldw)\n",
    "\n",
    "# Display plots in smaller size\n",
    "options(repr.plot.width=3, repr.plot.height=3)"
   ]
  },
  {
   "cell_type": "markdown",
   "metadata": {},
   "source": [
    "# Elastic Procrustes Means\n",
    "Means are calculated for some simulated and real world datasets."
   ]
  },
  {
   "cell_type": "markdown",
   "metadata": {},
   "source": [
    "#### Define some functions for rotating and scaling planar curves"
   ]
  },
  {
   "cell_type": "code",
   "execution_count": 2,
   "metadata": {},
   "outputs": [],
   "source": [
    "rand_rotate_curve2d <- function(x){\n",
    "  # rotate dataframe of 2D vectors randomly\n",
    "  theta <- 2*pi*runif(1)\n",
    "  mat <- matrix(c(cos(theta), sin(theta), -sin(theta), cos(theta)), nrow = 2, ncol = 2)\n",
    "  x.rot <- as.matrix(x) %*% t(mat)\n",
    "  as.data.frame(x.rot)\n",
    "}\n",
    "rand_scale_curve2d <- function(x){\n",
    "  # scale dataframe of 2D vectors randomly\n",
    "  beta <- 0.5 + 0.5*runif(1)\n",
    "  beta * x\n",
    "}"
   ]
  },
  {
   "cell_type": "markdown",
   "metadata": {},
   "source": [
    "### Datasets"
   ]
  },
  {
   "cell_type": "markdown",
   "metadata": {},
   "source": [
    "#### Simulated spirals with random rotation and scaling"
   ]
  },
  {
   "cell_type": "code",
   "execution_count": 3,
   "metadata": {},
   "outputs": [],
   "source": [
    "curve <- function(t){\n",
    "  rbind(t*cos(13*t), t*sin(13*t))\n",
    "}\n",
    "\n",
    "data_curves <- lapply(1:4, function(i){\n",
    "  m <- sample(10:15, 1)\n",
    "  delta <- abs(rnorm(m, mean = 1, sd = 0.05))\n",
    "  t <- cumsum(delta)/sum(delta)\n",
    "  data.frame(t(curve(t)) + 0.07*t*matrix(cumsum(rnorm(2*length(delta))), ncol = 2))\n",
    "})\n",
    "\n",
    "\n",
    "data_curves <- lapply(data_curves, rand_rotate_curve2d)\n",
    "data_curves <- lapply(data_curves, rand_scale_curve2d)\n",
    "data_curves <- lapply(data_curves, center_curve)"
   ]
  },
  {
   "cell_type": "markdown",
   "metadata": {},
   "source": [
    "#### Digits3 dataset"
   ]
  },
  {
   "cell_type": "code",
   "execution_count": 4,
   "metadata": {},
   "outputs": [],
   "source": [
    "d3_curves <- shapes::digit3.dat\n",
    "d3_curves <- apply(d3_curves, MARGIN = 3, FUN = function(i){\n",
    "  data.frame(X1 = i[,1], X2 = i[,2])\n",
    "})\n",
    "d3_curves <- lapply(d3_curves, center_curve)"
   ]
  },
  {
   "cell_type": "markdown",
   "metadata": {},
   "source": [
    "### Calculate Elastic Procrustes Means\n",
    "#### Simulated Spirals"
   ]
  },
  {
   "cell_type": "code",
   "execution_count": 5,
   "metadata": {},
   "outputs": [
    {
     "data": {
      "image/png": "[encoded data removed]",
      "text/plain": [
       "plot without title"
      ]
     },
     "metadata": {},
     "output_type": "display_data"
    },
    {
     "data": {
      "text/html": [
       "<ol>\n",
       "\t<li>NULL</li>\n",
       "\t<li>NULL</li>\n",
       "\t<li>NULL</li>\n",
       "\t<li>NULL</li>\n",
       "</ol>\n"
      ],
      "text/latex": [
       "\\begin{enumerate}\n",
       "\\item NULL\n",
       "\\item NULL\n",
       "\\item NULL\n",
       "\\item NULL\n",
       "\\end{enumerate}\n"
      ],
      "text/markdown": [
       "1. NULL\n",
       "2. NULL\n",
       "3. NULL\n",
       "4. NULL\n",
       "\n",
       "\n"
      ],
      "text/plain": [
       "[[1]]\n",
       "NULL\n",
       "\n",
       "[[2]]\n",
       "NULL\n",
       "\n",
       "[[3]]\n",
       "NULL\n",
       "\n",
       "[[4]]\n",
       "NULL\n"
      ]
     },
     "metadata": {},
     "output_type": "display_data"
    },
    {
     "data": {
      "image/png": "[encoded data removed]",
      "text/plain": [
       "plot without title"
      ]
     },
     "metadata": {},
     "output_type": "display_data"
    }
   ],
   "source": [
    "knots <- seq(0,1, length = 11)\n",
    "smooth_elastic_mean <- compute_elastic_mean(data_curves, knots = knots)\n",
    "\n",
    "#plot result\n",
    "plot.new( )\n",
    "plot.window( xlim=c(-1,1), ylim=c(-1,1), asp = 1)\n",
    "lapply(data_curves, lines, col = \"gray\")\n",
    "lines(get_evals(smooth_elastic_mean), type = \"l\", col = \"red\", lwd = 2)"
   ]
  },
  {
   "cell_type": "markdown",
   "metadata": {},
   "source": [
    "#### Digits3"
   ]
  },
  {
   "cell_type": "code",
   "execution_count": null,
   "metadata": {},
   "outputs": [],
   "source": [
    "knots <- seq(0,1, length = 30)\n",
    "smooth_elastic_mean <- compute_elastic_mean(d3_curves, knots = knots)\n",
    "\n",
    "#plot result\n",
    "plot.new( )\n",
    "plot.window( xlim=c(-15,15), ylim=c(-15,15), asp = 1)\n",
    "lapply(d3_curves, lines, col = \"gray\")\n",
    "lines(get_evals(smooth_elastic_mean), type = \"l\", col = \"red\", lwd = 2)"
   ]
  }
 ],
 "metadata": {
  "kernelspec": {
   "display_name": "R",
   "language": "R",
   "name": "ir"
  },
  "language_info": {
   "codemirror_mode": "r",
   "file_extension": ".r",
   "mimetype": "text/x-r-source",
   "name": "R",
   "pygments_lexer": "r",
   "version": "3.6.3"
  }
 },
 "nbformat": 4,
 "nbformat_minor": 4
}

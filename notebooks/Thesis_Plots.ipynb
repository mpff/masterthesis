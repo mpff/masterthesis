{
 "cells": [
  {
   "cell_type": "markdown",
   "id": "a777ec4c-f373-45a8-a800-53ecd1067914",
   "metadata": {},
   "source": [
    "# Masterthesis - Plots\n",
    "\n",
    "#### Imports"
   ]
  },
  {
   "cell_type": "code",
   "execution_count": 1,
   "id": "c27be7d7-c21b-4078-ae01-93632162f515",
   "metadata": {},
   "outputs": [
    {
     "name": "stdout",
     "output_type": "stream",
     "text": [
      "numDeriv (NA -> 2016.8-1.1) [CRAN]\n"
     ]
    },
    {
     "name": "stderr",
     "output_type": "stream",
     "text": [
      "Installing 1 packages: numDeriv\n",
      "\n",
      "Installing package into ‘/home/mnl/R/x86_64-pc-linux-gnu-library/4.1’\n",
      "(as ‘lib’ is unspecified)\n",
      "\n"
     ]
    },
    {
     "name": "stdout",
     "output_type": "stream",
     "text": [
      "\u001b[32m✔\u001b[39m  \u001b[38;5;247mchecking for file ‘/home/mnl/Dropbox/Statistik/elasdics/DESCRIPTION’\u001b[39m\u001b[36m\u001b[39m\n",
      "\u001b[38;5;247m─\u001b[39m\u001b[38;5;247m  \u001b[39m\u001b[38;5;247mpreparing ‘elasdics2d’:\u001b[39m\u001b[36m\u001b[36m (2.2s)\u001b[36m\u001b[39m\n",
      "\u001b[32m✔\u001b[39m  \u001b[38;5;247mchecking DESCRIPTION meta-information\u001b[39m\u001b[36m\u001b[39m\n",
      "\u001b[38;5;247m─\u001b[39m\u001b[38;5;247m  \u001b[39m\u001b[38;5;247mchecking for LF line-endings in source and make files and shell scripts\u001b[39m\u001b[36m\u001b[39m\n",
      "\u001b[38;5;247m─\u001b[39m\u001b[38;5;247m  \u001b[39m\u001b[38;5;247mchecking for empty or unneeded directories\u001b[39m\u001b[36m\u001b[39m\n",
      "   Omitted ‘LazyData’ from DESCRIPTION\n",
      "\u001b[38;5;247m─\u001b[39m\u001b[38;5;247m  \u001b[39m\u001b[38;5;247mbuilding ‘elasdics2d_0.1.0.tar.gz’\u001b[39m\u001b[36m\u001b[39m\n",
      "   \n",
      "Running /usr/lib64/R/bin/R CMD INSTALL \\\n",
      "  /tmp/RtmptpUqZu/elasdics2d_0.1.0.tar.gz --install-tests \n",
      "\u001b[31m* installing to library ‘/home/mnl/R/x86_64-pc-linux-gnu-library/4.1’\n",
      "\u001b[39m\u001b[31m* installing *source* package ‘elasdics2d’ ...\n",
      "\u001b[39m\u001b[31m** using staged installation\n",
      "\u001b[39m\u001b[31m** R\n",
      "\u001b[39m\u001b[31m** tests\n",
      "\u001b[39m\u001b[31m** byte-compile and prepare package for lazy loading\n",
      "\u001b[39m\u001b[31m** help\n",
      "\u001b[39m\u001b[31m*** installing help indices\n",
      "\u001b[39m\u001b[31m** building package indices\n",
      "\u001b[39m\u001b[31m** testing if installed package can be loaded from temporary location\n",
      "\u001b[39m\u001b[31m** testing if installed package can be loaded from final location\n",
      "\u001b[39m\u001b[31m** testing if installed package keeps a record of temporary installation path\n",
      "\u001b[39m\u001b[31m* DONE (elasdics2d)\n",
      "\u001b[39m"
     ]
    },
    {
     "ename": "ERROR",
     "evalue": "Error in library(gridExtra): there is no package called ‘gridExtra’\n",
     "output_type": "error",
     "traceback": [
      "Error in library(gridExtra): there is no package called ‘gridExtra’\nTraceback:\n",
      "1. library(gridExtra)"
     ]
    }
   ],
   "source": [
    "#detach(\"package:elasdics2d\", unload=TRUE)\n",
    "devtools::install(\"../../elasdics\")\n",
    "library(elasdics2d)\n",
    "library(ggplot2)\n",
    "library(gridExtra)\n",
    "library(dplyr)\n",
    "\n",
    "# Display plots in smaller size\n",
    "options(repr.plot.width=10, repr.plot.height=6)"
   ]
  },
  {
   "cell_type": "markdown",
   "id": "46c7eadb-9947-460d-8a7e-2b9bc6cb5768",
   "metadata": {},
   "source": [
    "## 1. Introduction"
   ]
  },
  {
   "cell_type": "code",
   "execution_count": null,
   "id": "60160724-a718-4c75-b229-ec40c9d7e27d",
   "metadata": {},
   "outputs": [],
   "source": []
  }
 ],
 "metadata": {
  "kernelspec": {
   "display_name": "R",
   "language": "R",
   "name": "ir"
  },
  "language_info": {
   "codemirror_mode": "r",
   "file_extension": ".r",
   "mimetype": "text/x-r-source",
   "name": "R",
   "pygments_lexer": "r",
   "version": "4.1.2"
  }
 },
 "nbformat": 4,
 "nbformat_minor": 5
}

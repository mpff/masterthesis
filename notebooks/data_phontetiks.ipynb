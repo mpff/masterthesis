{
 "cells": [
  {
   "cell_type": "markdown",
   "metadata": {},
   "source": [
    "Phonetik Daten\n",
    "==============\n",
    "Load Data and take a peek."
   ]
  },
  {
   "cell_type": "code",
   "execution_count": 1,
   "metadata": {},
   "outputs": [
    {
     "name": "stderr",
     "output_type": "stream",
     "text": [
      "\n",
      "Attaching package: 'dplyr'\n",
      "\n",
      "\n",
      "The following objects are masked from 'package:stats':\n",
      "\n",
      "    filter, lag\n",
      "\n",
      "\n",
      "The following objects are masked from 'package:base':\n",
      "\n",
      "    intersect, setdiff, setequal, union\n",
      "\n",
      "\n",
      "\n",
      "Attaching package: 'gridExtra'\n",
      "\n",
      "\n",
      "The following object is masked from 'package:dplyr':\n",
      "\n",
      "    combine\n",
      "\n",
      "\n"
     ]
    }
   ],
   "source": [
    "library(dplyr)\n",
    "library(ggplot2)\n",
    "library(elasticproc2d)\n",
    "library(grid)\n",
    "library(gridExtra)"
   ]
  },
  {
   "cell_type": "code",
   "execution_count": 2,
   "metadata": {},
   "outputs": [],
   "source": [
    "# From '..phonetik/code/Rfiles/readdata.R'\n",
    "pouplier <- read.csv(file = \"../data/phonetik_consulting/Daten/UltrasoundData_Frame3_AllSpeakers.txt\", sep = \"\\t\", header = TRUE)\n",
    "pouplier$COMPL <- pouplier$RHO * exp(1.i*pouplier$THETA)\n",
    "pouplier$X1 <- Re(pouplier$COMPL)\n",
    "pouplier$X2 <- Im(pouplier$COMPL)"
   ]
  },
  {
   "cell_type": "code",
   "execution_count": 3,
   "metadata": {},
   "outputs": [
    {
     "data": {
      "text/html": [
       "<table class=\"dataframe\">\n",
       "<caption>A data.frame: 6 × 11</caption>\n",
       "<thead>\n",
       "\t<tr><th></th><th scope=col>VPN</th><th scope=col>REP</th><th scope=col>FRAME</th><th scope=col>WORD</th><th scope=col>VCODE</th><th scope=col>CCODE</th><th scope=col>THETA</th><th scope=col>RHO</th><th scope=col>COMPL</th><th scope=col>X1</th><th scope=col>X2</th></tr>\n",
       "\t<tr><th></th><th scope=col>&lt;chr&gt;</th><th scope=col>&lt;int&gt;</th><th scope=col>&lt;int&gt;</th><th scope=col>&lt;chr&gt;</th><th scope=col>&lt;chr&gt;</th><th scope=col>&lt;chr&gt;</th><th scope=col>&lt;dbl&gt;</th><th scope=col>&lt;dbl&gt;</th><th scope=col>&lt;cpl&gt;</th><th scope=col>&lt;dbl&gt;</th><th scope=col>&lt;dbl&gt;</th></tr>\n",
       "</thead>\n",
       "<tbody>\n",
       "\t<tr><th scope=row>1</th><td>D1</td><td>1</td><td>3</td><td>pada</td><td>aa</td><td>d</td><td>1.037</td><td>57.0108</td><td>29.00739+49.07955i</td><td>29.00739</td><td>49.07955</td></tr>\n",
       "\t<tr><th scope=row>2</th><td>D1</td><td>1</td><td>3</td><td>pada</td><td>aa</td><td>d</td><td>1.088</td><td>56.9207</td><td>26.42587+50.41467i</td><td>26.42587</td><td>50.41467</td></tr>\n",
       "\t<tr><th scope=row>3</th><td>D1</td><td>1</td><td>3</td><td>pada</td><td>aa</td><td>d</td><td>1.138</td><td>56.2112</td><td>23.57559+51.02833i</td><td>23.57559</td><td>51.02833</td></tr>\n",
       "\t<tr><th scope=row>4</th><td>D1</td><td>1</td><td>3</td><td>pada</td><td>aa</td><td>d</td><td>1.189</td><td>54.8924</td><td>20.45225+50.93997i</td><td>20.45225</td><td>50.93997</td></tr>\n",
       "\t<tr><th scope=row>5</th><td>D1</td><td>1</td><td>3</td><td>pada</td><td>aa</td><td>d</td><td>1.239</td><td>53.9110</td><td>17.56107+50.97063i</td><td>17.56107</td><td>50.97063</td></tr>\n",
       "\t<tr><th scope=row>6</th><td>D1</td><td>1</td><td>3</td><td>pada</td><td>aa</td><td>d</td><td>1.290</td><td>53.1188</td><td>14.72033+51.03841i</td><td>14.72033</td><td>51.03841</td></tr>\n",
       "</tbody>\n",
       "</table>\n"
      ],
      "text/latex": [
       "A data.frame: 6 × 11\n",
       "\\begin{tabular}{r|lllllllllll}\n",
       "  & VPN & REP & FRAME & WORD & VCODE & CCODE & THETA & RHO & COMPL & X1 & X2\\\\\n",
       "  & <chr> & <int> & <int> & <chr> & <chr> & <chr> & <dbl> & <dbl> & <cpl> & <dbl> & <dbl>\\\\\n",
       "\\hline\n",
       "\t1 & D1 & 1 & 3 & pada & aa & d & 1.037 & 57.0108 & 29.00739+49.07955i & 29.00739 & 49.07955\\\\\n",
       "\t2 & D1 & 1 & 3 & pada & aa & d & 1.088 & 56.9207 & 26.42587+50.41467i & 26.42587 & 50.41467\\\\\n",
       "\t3 & D1 & 1 & 3 & pada & aa & d & 1.138 & 56.2112 & 23.57559+51.02833i & 23.57559 & 51.02833\\\\\n",
       "\t4 & D1 & 1 & 3 & pada & aa & d & 1.189 & 54.8924 & 20.45225+50.93997i & 20.45225 & 50.93997\\\\\n",
       "\t5 & D1 & 1 & 3 & pada & aa & d & 1.239 & 53.9110 & 17.56107+50.97063i & 17.56107 & 50.97063\\\\\n",
       "\t6 & D1 & 1 & 3 & pada & aa & d & 1.290 & 53.1188 & 14.72033+51.03841i & 14.72033 & 51.03841\\\\\n",
       "\\end{tabular}\n"
      ],
      "text/markdown": [
       "\n",
       "A data.frame: 6 × 11\n",
       "\n",
       "| <!--/--> | VPN &lt;chr&gt; | REP &lt;int&gt; | FRAME &lt;int&gt; | WORD &lt;chr&gt; | VCODE &lt;chr&gt; | CCODE &lt;chr&gt; | THETA &lt;dbl&gt; | RHO &lt;dbl&gt; | COMPL &lt;cpl&gt; | X1 &lt;dbl&gt; | X2 &lt;dbl&gt; |\n",
       "|---|---|---|---|---|---|---|---|---|---|---|---|\n",
       "| 1 | D1 | 1 | 3 | pada | aa | d | 1.037 | 57.0108 | 29.00739+49.07955i | 29.00739 | 49.07955 |\n",
       "| 2 | D1 | 1 | 3 | pada | aa | d | 1.088 | 56.9207 | 26.42587+50.41467i | 26.42587 | 50.41467 |\n",
       "| 3 | D1 | 1 | 3 | pada | aa | d | 1.138 | 56.2112 | 23.57559+51.02833i | 23.57559 | 51.02833 |\n",
       "| 4 | D1 | 1 | 3 | pada | aa | d | 1.189 | 54.8924 | 20.45225+50.93997i | 20.45225 | 50.93997 |\n",
       "| 5 | D1 | 1 | 3 | pada | aa | d | 1.239 | 53.9110 | 17.56107+50.97063i | 17.56107 | 50.97063 |\n",
       "| 6 | D1 | 1 | 3 | pada | aa | d | 1.290 | 53.1188 | 14.72033+51.03841i | 14.72033 | 51.03841 |\n",
       "\n"
      ],
      "text/plain": [
       "  VPN REP FRAME WORD VCODE CCODE THETA RHO     COMPL              X1      \n",
       "1 D1  1   3     pada aa    d     1.037 57.0108 29.00739+49.07955i 29.00739\n",
       "2 D1  1   3     pada aa    d     1.088 56.9207 26.42587+50.41467i 26.42587\n",
       "3 D1  1   3     pada aa    d     1.138 56.2112 23.57559+51.02833i 23.57559\n",
       "4 D1  1   3     pada aa    d     1.189 54.8924 20.45225+50.93997i 20.45225\n",
       "5 D1  1   3     pada aa    d     1.239 53.9110 17.56107+50.97063i 17.56107\n",
       "6 D1  1   3     pada aa    d     1.290 53.1188 14.72033+51.03841i 14.72033\n",
       "  X2      \n",
       "1 49.07955\n",
       "2 50.41467\n",
       "3 51.02833\n",
       "4 50.93997\n",
       "5 50.97063\n",
       "6 51.03841"
      ]
     },
     "metadata": {},
     "output_type": "display_data"
    }
   ],
   "source": [
    "head(pouplier)"
   ]
  },
  {
   "cell_type": "markdown",
   "metadata": {},
   "source": [
    "## \"pada\" and \"pidi\" total means"
   ]
  },
  {
   "cell_type": "code",
   "execution_count": 4,
   "metadata": {},
   "outputs": [],
   "source": [
    "pada <- pouplier %>%\n",
    "    filter(WORD == \"pada\") %>%\n",
    "    select(VPN, REP, X1, X2) %>%\n",
    "    group_by(VPN, REP) %>%\n",
    "    group_split(.keep = FALSE)\n",
    "\n",
    "pidi <- pouplier %>%\n",
    "    filter(WORD == \"pidi\") %>%\n",
    "    select(VPN, REP, X1, X2) %>%\n",
    "    group_by(VPN, REP) %>%\n",
    "    group_split(.keep = FALSE)"
   ]
  },
  {
   "cell_type": "code",
   "execution_count": 5,
   "metadata": {},
   "outputs": [
    {
     "data": {
      "image/png": "[encoded data removed]",
      "text/plain": [
       "plot without title"
      ]
     },
     "metadata": {
      "image/png": {
       "height": 360,
       "width": 720
      }
     },
     "output_type": "display_data"
    }
   ],
   "source": [
    "p1 <- ggplot(bind_rows(pada, .id=\"id\"), aes(x=X1, y=X2)) + \n",
    "    geom_path(size=0.5, aes(group=id), color=\"grey\") +\n",
    "    coord_fixed(xlim=c(-45,35), ylim=c(10,80))\n",
    "\n",
    "p2 <- ggplot(bind_rows(pidi, .id=\"id\"), aes(x=X1, y=X2)) + \n",
    "    geom_path(size=0.5, aes(group=id), color=\"grey\") +\n",
    "    coord_fixed(xlim=c(-45,35), ylim=c(10,80))\n",
    "\n",
    "options(repr.plot.width=12, repr.plot.height=6)\n",
    "grid.arrange(p1, p2, nrow=1, top=\"All contours for words 'pada' and 'pidi'\")"
   ]
  },
  {
   "cell_type": "code",
   "execution_count": 6,
   "metadata": {},
   "outputs": [
    {
     "name": "stderr",
     "output_type": "stream",
     "text": [
      "Warning message in smooth.construct.ps.smooth.spec(eval(as.call(list(as.symbol(\"s\"), :\n",
      "\"there is *no* information about some basis coefficients\"\n",
      "Warning message in smooth.construct.ps.smooth.spec(eval(as.call(list(as.symbol(\"s\"), :\n",
      "\"there is *no* information about some basis coefficients\"\n",
      "Warning message in smooth.construct.ps.smooth.spec(eval(as.call(list(as.symbol(\"s\"), :\n",
      "\"there is *no* information about some basis coefficients\"\n",
      "Warning message in smooth.construct.ps.smooth.spec(eval(as.call(list(as.symbol(\"s\"), :\n",
      "\"there is *no* information about some basis coefficients\"\n",
      "Warning message in smooth.construct.ps.smooth.spec(eval(as.call(list(as.symbol(\"s\"), :\n",
      "\"there is *no* information about some basis coefficients\"\n",
      "Warning message in smooth.construct.ps.smooth.spec(eval(as.call(list(as.symbol(\"s\"), :\n",
      "\"there is *no* information about some basis coefficients\"\n",
      "Warning message in smooth.construct.ps.smooth.spec(eval(as.call(list(as.symbol(\"s\"), :\n",
      "\"there is *no* information about some basis coefficients\"\n",
      "Warning message in smooth.construct.ps.smooth.spec(eval(as.call(list(as.symbol(\"s\"), :\n",
      "\"there is *no* information about some basis coefficients\"\n",
      "Warning message in smooth.construct.ps.smooth.spec(eval(as.call(list(as.symbol(\"s\"), :\n",
      "\"there is *no* information about some basis coefficients\"\n",
      "Warning message in smooth.construct.ps.smooth.spec(eval(as.call(list(as.symbol(\"s\"), :\n",
      "\"there is *no* information about some basis coefficients\"\n",
      "Warning message in smooth.construct.ps.smooth.spec(eval(as.call(list(as.symbol(\"s\"), :\n",
      "\"there is *no* information about some basis coefficients\"\n",
      "Warning message in smooth.construct.ps.smooth.spec(eval(as.call(list(as.symbol(\"s\"), :\n",
      "\"there is *no* information about some basis coefficients\"\n"
     ]
    }
   ],
   "source": [
    "knots <- seq(0, 1, length = 30)\n",
    "pada.mean <- compute_elastic_proc2d_mean(pada, knots = knots, type = \"smooth\", penalty = 2)\n",
    "pidi.mean <- compute_elastic_proc2d_mean(pidi, knots = knots, type = \"smooth\", penalty = 2)"
   ]
  },
  {
   "cell_type": "code",
   "execution_count": 7,
   "metadata": {},
   "outputs": [],
   "source": [
    "rot.pada <- mean(sapply(pada.mean$data_curves, function(curve){\n",
    "    attr(curve, \"rotation\")\n",
    "}))\n",
    "rot.pidi <- mean(sapply(pidi.mean$data_curves, function(curve){\n",
    "    attr(curve, \"rotation\")\n",
    "}))"
   ]
  },
  {
   "cell_type": "code",
   "execution_count": 8,
   "metadata": {},
   "outputs": [
    {
     "ename": "ERROR",
     "evalue": "Error in nrow(mean.pidi.rot): object 'mean.pidi.rot' not found\n",
     "output_type": "error",
     "traceback": [
      "Error in nrow(mean.pidi.rot): object 'mean.pidi.rot' not found\nTraceback:\n",
      "1. mean.pada.rot[nrow(mean.pidi.rot), 1]",
      "2. `[.data.frame`(mean.pada.rot, nrow(mean.pidi.rot), 1)",
      "3. nrow(mean.pidi.rot)"
     ]
    }
   ],
   "source": [
    "pfits.pada <- lapply(pada.mean$data_curves, function(curve){\n",
    "    pfit <- get_procrustes_fit(curve)\n",
    "    theta <- - rot.pada\n",
    "    mat <- matrix(c(cos(theta), - sin(theta), sin(theta), cos(theta)), nrow = 2, ncol = 2)\n",
    "    curve <- as.data.frame(as.matrix(pfit[,c(3,4)]) %*% mat)\n",
    "    curve[,1] <- curve[,1] - curve[nrow(curve),1]\n",
    "    curve[,2] <- curve[,2] - curve[nrow(curve),2]\n",
    "    colnames(curve) <- c(\"X1\", \"X2\")\n",
    "    curve\n",
    "})\n",
    "theta <- - rot.pada\n",
    "mat <- matrix(c(cos(theta), - sin(theta), sin(theta), cos(theta)), nrow = 2, ncol = 2)\n",
    "mean.pada.rot <- as.data.frame(as.matrix(get_evals(pada.mean)) %*% mat)\n",
    "mean.pada.rot[,1] <- mean.pada.rot[,1] - mean.pada.rot[nrow(mean.pidi.rot),1]\n",
    "mean.pada.rot[,2] <- mean.pada.rot[,2] - mean.pada.rot[nrow(mean.pidi.rot),2]\n",
    "colnames(mean.pada.rot) <- c(\"X1\", \"X2\")\n",
    "\n",
    "pfits.pidi <- lapply(pidi.mean$data_curves, function(curve){\n",
    "    pfit <- get_procrustes_fit(curve)\n",
    "    theta <- - rot.pidi\n",
    "    mat <- matrix(c(cos(theta), - sin(theta), sin(theta), cos(theta)), nrow = 2, ncol = 2)\n",
    "    curve <- as.data.frame(as.matrix(pfit[,c(3,4)]) %*% mat)\n",
    "    curve[,1] <- curve[,1] - curve[nrow(curve),1]\n",
    "    curve[,2] <- curve[,2] - curve[nrow(curve),2]\n",
    "    colnames(curve) <- c(\"X1\", \"X2\")\n",
    "    curve\n",
    "})\n",
    "theta <- - rot.pidi\n",
    "mat <- matrix(c(cos(theta), - sin(theta), sin(theta), cos(theta)), nrow = 2, ncol = 2)\n",
    "mean.pidi.rot <- as.data.frame(as.matrix(get_evals(pidi.mean)) %*% mat)\n",
    "mean.pidi.rot[,1] <- mean.pidi.rot[,1] - mean.pidi.rot[nrow(mean.pidi.rot),1]\n",
    "mean.pidi.rot[,2] <- mean.pidi.rot[,2] - mean.pidi.rot[nrow(mean.pidi.rot),2]\n",
    "colnames(mean.pidi.rot) <- c(\"X1\", \"X2\")"
   ]
  },
  {
   "cell_type": "code",
   "execution_count": null,
   "metadata": {},
   "outputs": [],
   "source": [
    "p1 <- ggplot(bind_rows(pfits.pada, .id=\"id\"), aes(x=X1, y=X2)) + \n",
    "    geom_path(size=0.5, aes(group=id), color=\"grey\", alpha=0.7) +\n",
    "    geom_path(data=mean.pada.rot, aes(x=X1, y=X2), size=1, color=\"red\") +\n",
    "    coord_fixed(xlim=c(0,1),ylim=c(0,0.7))\n",
    "\n",
    "p2 <- ggplot(bind_rows(pfits.pidi, .id=\"id\"), aes(x=X1, y=X2)) + \n",
    "    geom_path(size=0.5, aes(group=id), color=\"grey\", alpha=0.7) +\n",
    "    geom_path(data=mean.pidi.rot, aes(x=X1, y=X2), size=1, color=\"red\") +\n",
    "    coord_fixed(xlim=c(0,1),ylim=c(0,0.7))\n",
    "\n",
    "options(repr.plot.width=12, repr.plot.height=6)\n",
    "grid.arrange(p1, p2, nrow=1, top=\"Procrustes fits and procrustes means for words 'pada' and 'pidi'\")"
   ]
  },
  {
   "cell_type": "markdown",
   "metadata": {},
   "source": [
    "#### Schätzung von $d(t)$ via stepwise means"
   ]
  },
  {
   "cell_type": "code",
   "execution_count": 41,
   "metadata": {
    "jupyter": {
     "source_hidden": true
    }
   },
   "outputs": [
    {
     "name": "stdout",
     "output_type": "stream",
     "text": [
      "[1] \"Number of VPN :\"\n",
      "[1] \"\\t pada : 6\"\n",
      "[1] \"\\t pidi : 6\"\n"
     ]
    }
   ],
   "source": [
    "pada <- pouplier %>%\n",
    "    filter(WORD == \"pada\") %>%\n",
    "    select(VPN, REP, X1, X2) %>%\n",
    "    arrange(VPN, REP) %>%\n",
    "    group_by(VPN) %>%\n",
    "    group_split(.keep = FALSE)\n",
    "\n",
    "pidi <- pouplier %>%\n",
    "    filter(WORD == \"pidi\") %>%\n",
    "    select(VPN, REP, X1, X2) %>%\n",
    "    arrange(VPN, REP) %>%\n",
    "    group_by(VPN) %>%\n",
    "    group_split(.keep = FALSE)\n",
    "\n",
    "pada <- lapply(pada, function(rep) {\n",
    "    rep %>% \n",
    "        group_by(REP) %>%\n",
    "        group_split(.keep = FALSE)\n",
    "})\n",
    "\n",
    "pidi <- lapply(pidi, function(rep) {\n",
    "    rep %>% \n",
    "        group_by(REP) %>%\n",
    "        group_split(.keep = FALSE)\n",
    "})"
   ]
  },
  {
   "cell_type": "code",
   "execution_count": 40,
   "metadata": {
    "collapsed": true,
    "jupyter": {
     "outputs_hidden": true,
     "source_hidden": true
    }
   },
   "outputs": [
    {
     "name": "stderr",
     "output_type": "stream",
     "text": [
      "Warning message in smooth.construct.ps.smooth.spec(eval(as.call(list(as.symbol(\"s\"), :\n",
      "\"there is *no* information about some basis coefficients\"\n",
      "Warning message in smooth.construct.ps.smooth.spec(eval(as.call(list(as.symbol(\"s\"), :\n",
      "\"there is *no* information about some basis coefficients\"\n",
      "Warning message in smooth.construct.ps.smooth.spec(eval(as.call(list(as.symbol(\"s\"), :\n",
      "\"there is *no* information about some basis coefficients\"\n",
      "Warning message in smooth.construct.ps.smooth.spec(eval(as.call(list(as.symbol(\"s\"), :\n",
      "\"there is *no* information about some basis coefficients\"\n",
      "Warning message in smooth.construct.ps.smooth.spec(eval(as.call(list(as.symbol(\"s\"), :\n",
      "\"there is *no* information about some basis coefficients\"\n",
      "Warning message in smooth.construct.ps.smooth.spec(eval(as.call(list(as.symbol(\"s\"), :\n",
      "\"there is *no* information about some basis coefficients\"\n",
      "Warning message in smooth.construct.ps.smooth.spec(eval(as.call(list(as.symbol(\"s\"), :\n",
      "\"there is *no* information about some basis coefficients\"\n",
      "Warning message in smooth.construct.ps.smooth.spec(eval(as.call(list(as.symbol(\"s\"), :\n",
      "\"there is *no* information about some basis coefficients\"\n",
      "Warning message in smooth.construct.ps.smooth.spec(eval(as.call(list(as.symbol(\"s\"), :\n",
      "\"there is *no* information about some basis coefficients\"\n",
      "Warning message in smooth.construct.ps.smooth.spec(eval(as.call(list(as.symbol(\"s\"), :\n",
      "\"there is *no* information about some basis coefficients\"\n",
      "Warning message in smooth.construct.ps.smooth.spec(eval(as.call(list(as.symbol(\"s\"), :\n",
      "\"there is *no* information about some basis coefficients\"\n",
      "Warning message in smooth.construct.ps.smooth.spec(eval(as.call(list(as.symbol(\"s\"), :\n",
      "\"there is *no* information about some basis coefficients\"\n",
      "Warning message in smooth.construct.ps.smooth.spec(eval(as.call(list(as.symbol(\"s\"), :\n",
      "\"there is *no* information about some basis coefficients\"\n",
      "Warning message in smooth.construct.ps.smooth.spec(eval(as.call(list(as.symbol(\"s\"), :\n",
      "\"there is *no* information about some basis coefficients\"\n",
      "Warning message in smooth.construct.ps.smooth.spec(eval(as.call(list(as.symbol(\"s\"), :\n",
      "\"there is *no* information about some basis coefficients\"\n",
      "Warning message in smooth.construct.ps.smooth.spec(eval(as.call(list(as.symbol(\"s\"), :\n",
      "\"there is *no* information about some basis coefficients\"\n",
      "Warning message in smooth.construct.ps.smooth.spec(eval(as.call(list(as.symbol(\"s\"), :\n",
      "\"there is *no* information about some basis coefficients\"\n",
      "Warning message in smooth.construct.ps.smooth.spec(eval(as.call(list(as.symbol(\"s\"), :\n",
      "\"there is *no* information about some basis coefficients\"\n",
      "Warning message in smooth.construct.ps.smooth.spec(eval(as.call(list(as.symbol(\"s\"), :\n",
      "\"there is *no* information about some basis coefficients\"\n",
      "Warning message in smooth.construct.ps.smooth.spec(eval(as.call(list(as.symbol(\"s\"), :\n",
      "\"there is *no* information about some basis coefficients\"\n",
      "Warning message in smooth.construct.ps.smooth.spec(eval(as.call(list(as.symbol(\"s\"), :\n",
      "\"there is *no* information about some basis coefficients\"\n",
      "Warning message in smooth.construct.ps.smooth.spec(eval(as.call(list(as.symbol(\"s\"), :\n",
      "\"there is *no* information about some basis coefficients\"\n",
      "Warning message in smooth.construct.ps.smooth.spec(eval(as.call(list(as.symbol(\"s\"), :\n",
      "\"there is *no* information about some basis coefficients\"\n",
      "Warning message in smooth.construct.ps.smooth.spec(eval(as.call(list(as.symbol(\"s\"), :\n",
      "\"there is *no* information about some basis coefficients\"\n",
      "Warning message in smooth.construct.ps.smooth.spec(eval(as.call(list(as.symbol(\"s\"), :\n",
      "\"there is *no* information about some basis coefficients\"\n",
      "Warning message in smooth.construct.ps.smooth.spec(eval(as.call(list(as.symbol(\"s\"), :\n",
      "\"there is *no* information about some basis coefficients\"\n",
      "Warning message in smooth.construct.ps.smooth.spec(eval(as.call(list(as.symbol(\"s\"), :\n",
      "\"there is *no* information about some basis coefficients\"\n",
      "Warning message in smooth.construct.ps.smooth.spec(eval(as.call(list(as.symbol(\"s\"), :\n",
      "\"there is *no* information about some basis coefficients\"\n",
      "Warning message in smooth.construct.ps.smooth.spec(eval(as.call(list(as.symbol(\"s\"), :\n",
      "\"there is *no* information about some basis coefficients\"\n",
      "Warning message in smooth.construct.ps.smooth.spec(eval(as.call(list(as.symbol(\"s\"), :\n",
      "\"there is *no* information about some basis coefficients\"\n",
      "Warning message in smooth.construct.ps.smooth.spec(eval(as.call(list(as.symbol(\"s\"), :\n",
      "\"there is *no* information about some basis coefficients\"\n",
      "Warning message in smooth.construct.ps.smooth.spec(eval(as.call(list(as.symbol(\"s\"), :\n",
      "\"there is *no* information about some basis coefficients\"\n",
      "Warning message in smooth.construct.ps.smooth.spec(eval(as.call(list(as.symbol(\"s\"), :\n",
      "\"there is *no* information about some basis coefficients\"\n",
      "Warning message in smooth.construct.ps.smooth.spec(eval(as.call(list(as.symbol(\"s\"), :\n",
      "\"there is *no* information about some basis coefficients\"\n",
      "Warning message in smooth.construct.ps.smooth.spec(eval(as.call(list(as.symbol(\"s\"), :\n",
      "\"there is *no* information about some basis coefficients\"\n",
      "Warning message in smooth.construct.ps.smooth.spec(eval(as.call(list(as.symbol(\"s\"), :\n",
      "\"there is *no* information about some basis coefficients\"\n",
      "Warning message in smooth.construct.ps.smooth.spec(eval(as.call(list(as.symbol(\"s\"), :\n",
      "\"there is *no* information about some basis coefficients\"\n",
      "Warning message in smooth.construct.ps.smooth.spec(eval(as.call(list(as.symbol(\"s\"), :\n",
      "\"there is *no* information about some basis coefficients\"\n",
      "Warning message in smooth.construct.ps.smooth.spec(eval(as.call(list(as.symbol(\"s\"), :\n",
      "\"there is *no* information about some basis coefficients\"\n",
      "Warning message in smooth.construct.ps.smooth.spec(eval(as.call(list(as.symbol(\"s\"), :\n",
      "\"there is *no* information about some basis coefficients\"\n",
      "Warning message in smooth.construct.ps.smooth.spec(eval(as.call(list(as.symbol(\"s\"), :\n",
      "\"there is *no* information about some basis coefficients\"\n",
      "Warning message in smooth.construct.ps.smooth.spec(eval(as.call(list(as.symbol(\"s\"), :\n",
      "\"there is *no* information about some basis coefficients\"\n",
      "Warning message in smooth.construct.ps.smooth.spec(eval(as.call(list(as.symbol(\"s\"), :\n",
      "\"there is *no* information about some basis coefficients\"\n",
      "Warning message in smooth.construct.ps.smooth.spec(eval(as.call(list(as.symbol(\"s\"), :\n",
      "\"there is *no* information about some basis coefficients\"\n",
      "Warning message in smooth.construct.ps.smooth.spec(eval(as.call(list(as.symbol(\"s\"), :\n",
      "\"there is *no* information about some basis coefficients\"\n",
      "Warning message in smooth.construct.ps.smooth.spec(eval(as.call(list(as.symbol(\"s\"), :\n",
      "\"there is *no* information about some basis coefficients\"\n",
      "Warning message in smooth.construct.ps.smooth.spec(eval(as.call(list(as.symbol(\"s\"), :\n",
      "\"there is *no* information about some basis coefficients\"\n",
      "Warning message in smooth.construct.ps.smooth.spec(eval(as.call(list(as.symbol(\"s\"), :\n",
      "\"there is *no* information about some basis coefficients\"\n",
      "Warning message in smooth.construct.ps.smooth.spec(eval(as.call(list(as.symbol(\"s\"), :\n",
      "\"there is *no* information about some basis coefficients\"\n",
      "Warning message in smooth.construct.ps.smooth.spec(eval(as.call(list(as.symbol(\"s\"), :\n",
      "\"there is *no* information about some basis coefficients\"\n",
      "Warning message in smooth.construct.ps.smooth.spec(eval(as.call(list(as.symbol(\"s\"), :\n",
      "\"there is *no* information about some basis coefficients\"\n",
      "Warning message in smooth.construct.ps.smooth.spec(eval(as.call(list(as.symbol(\"s\"), :\n",
      "\"there is *no* information about some basis coefficients\"\n",
      "Warning message in smooth.construct.ps.smooth.spec(eval(as.call(list(as.symbol(\"s\"), :\n",
      "\"there is *no* information about some basis coefficients\"\n",
      "Warning message in smooth.construct.ps.smooth.spec(eval(as.call(list(as.symbol(\"s\"), :\n",
      "\"there is *no* information about some basis coefficients\"\n",
      "Warning message in smooth.construct.ps.smooth.spec(eval(as.call(list(as.symbol(\"s\"), :\n",
      "\"there is *no* information about some basis coefficients\"\n",
      "Warning message in smooth.construct.ps.smooth.spec(eval(as.call(list(as.symbol(\"s\"), :\n",
      "\"there is *no* information about some basis coefficients\"\n",
      "Warning message in smooth.construct.ps.smooth.spec(eval(as.call(list(as.symbol(\"s\"), :\n",
      "\"there is *no* information about some basis coefficients\"\n",
      "Warning message in smooth.construct.ps.smooth.spec(eval(as.call(list(as.symbol(\"s\"), :\n",
      "\"there is *no* information about some basis coefficients\"\n",
      "Warning message in smooth.construct.ps.smooth.spec(eval(as.call(list(as.symbol(\"s\"), :\n",
      "\"there is *no* information about some basis coefficients\"\n",
      "Warning message in smooth.construct.ps.smooth.spec(eval(as.call(list(as.symbol(\"s\"), :\n",
      "\"there is *no* information about some basis coefficients\"\n",
      "Warning message in smooth.construct.ps.smooth.spec(eval(as.call(list(as.symbol(\"s\"), :\n",
      "\"there is *no* information about some basis coefficients\"\n",
      "Warning message in smooth.construct.ps.smooth.spec(eval(as.call(list(as.symbol(\"s\"), :\n",
      "\"there is *no* information about some basis coefficients\"\n",
      "Warning message in smooth.construct.ps.smooth.spec(eval(as.call(list(as.symbol(\"s\"), :\n",
      "\"there is *no* information about some basis coefficients\"\n",
      "Warning message in smooth.construct.ps.smooth.spec(eval(as.call(list(as.symbol(\"s\"), :\n",
      "\"there is *no* information about some basis coefficients\"\n",
      "Warning message in smooth.construct.ps.smooth.spec(eval(as.call(list(as.symbol(\"s\"), :\n",
      "\"there is *no* information about some basis coefficients\"\n",
      "Warning message in smooth.construct.ps.smooth.spec(eval(as.call(list(as.symbol(\"s\"), :\n",
      "\"there is *no* information about some basis coefficients\"\n",
      "Warning message in smooth.construct.ps.smooth.spec(eval(as.call(list(as.symbol(\"s\"), :\n",
      "\"there is *no* information about some basis coefficients\"\n",
      "Warning message in smooth.construct.ps.smooth.spec(eval(as.call(list(as.symbol(\"s\"), :\n",
      "\"there is *no* information about some basis coefficients\"\n",
      "Warning message in smooth.construct.ps.smooth.spec(eval(as.call(list(as.symbol(\"s\"), :\n",
      "\"there is *no* information about some basis coefficients\"\n",
      "Warning message in smooth.construct.ps.smooth.spec(eval(as.call(list(as.symbol(\"s\"), :\n",
      "\"there is *no* information about some basis coefficients\"\n",
      "Warning message in smooth.construct.ps.smooth.spec(eval(as.call(list(as.symbol(\"s\"), :\n",
      "\"there is *no* information about some basis coefficients\"\n",
      "Warning message in smooth.construct.ps.smooth.spec(eval(as.call(list(as.symbol(\"s\"), :\n",
      "\"there is *no* information about some basis coefficients\"\n",
      "Warning message in smooth.construct.ps.smooth.spec(eval(as.call(list(as.symbol(\"s\"), :\n",
      "\"there is *no* information about some basis coefficients\"\n",
      "Warning message in smooth.construct.ps.smooth.spec(eval(as.call(list(as.symbol(\"s\"), :\n",
      "\"there is *no* information about some basis coefficients\"\n",
      "Warning message in smooth.construct.ps.smooth.spec(eval(as.call(list(as.symbol(\"s\"), :\n",
      "\"there is *no* information about some basis coefficients\"\n",
      "Warning message in smooth.construct.ps.smooth.spec(eval(as.call(list(as.symbol(\"s\"), :\n",
      "\"there is *no* information about some basis coefficients\"\n"
     ]
    }
   ],
   "source": [
    "knots <- seq(0, 1, length = 30)\n",
    "pada.vpn.means <- lapply(pada, function(vpn){\n",
    "    compute_elastic_proc2d_mean(vpn, knots = knots, type = \"smooth\", penalty = 2)\n",
    "})\n",
    "pidi.vpn.means <- lapply(pidi, function(vpn){\n",
    "    compute_elastic_proc2d_mean(vpn, knots = knots, type = \"smooth\", penalty = 2)\n",
    "})"
   ]
  },
  {
   "cell_type": "code",
   "execution_count": 75,
   "metadata": {},
   "outputs": [],
   "source": [
    "pada.rots <- lapply(pada.vpn.means, function(vpn.mean) {\n",
    "    mean(sapply(vpn.mean$data_curves, function(curve){\n",
    "        attr(curve, \"rotation\")\n",
    "    }))\n",
    "})\n",
    "pidi.rots <- lapply(pidi.vpn.means, function(vpn.mean) {\n",
    "    mean(sapply(vpn.mean$data_curves, function(curve){\n",
    "        attr(curve, \"rotation\")\n",
    "    }))\n",
    "})"
   ]
  },
  {
   "cell_type": "code",
   "execution_count": 76,
   "metadata": {},
   "outputs": [],
   "source": [
    "pada.vpn.curves <- lapply(seq_along(pada.vpn.means), function(i){\n",
    "    theta <- - pada.rots[[i]]\n",
    "    mat <- matrix(c(cos(theta), - sin(theta), sin(theta), cos(theta)), nrow = 2, ncol = 2)\n",
    "    curve <- as.data.frame(as.matrix(get_evals(pada.vpn.means[[i]])) %*% mat)\n",
    "    curve[,1] <- curve[,1] - curve[nrow(curve),1]\n",
    "    curve[,2] <- curve[,2] - curve[nrow(curve),2]\n",
    "    colnames(curve) <- c(\"X1\", \"X2\")\n",
    "    curve\n",
    "})\n",
    "pidi.vpn.curves <- lapply(seq_along(pidi.vpn.means), function(i){\n",
    "    theta <- - pidi.rots[[i]]\n",
    "    mat <- matrix(c(cos(theta), - sin(theta), sin(theta), cos(theta)), nrow = 2, ncol = 2)\n",
    "    curve <- as.data.frame(as.matrix(get_evals(pidi.vpn.means[[i]])) %*% mat)\n",
    "    curve[,1] <- curve[,1] - curve[nrow(curve),1]\n",
    "    curve[,2] <- curve[,2] - curve[nrow(curve),2]\n",
    "    colnames(curve) <- c(\"X1\", \"X2\")\n",
    "    curve\n",
    "})"
   ]
  },
  {
   "cell_type": "code",
   "execution_count": 77,
   "metadata": {
    "jupyter": {
     "source_hidden": true
    }
   },
   "outputs": [
    {
     "data": {
      "image/png": "[encoded data removed]",
      "text/plain": [
       "plot without title"
      ]
     },
     "metadata": {
      "image/png": {
       "height": 360,
       "width": 720
      }
     },
     "output_type": "display_data"
    }
   ],
   "source": [
    "p1 <- ggplot(bind_rows(pada.vpn.curves, .id=\"id\"), aes(x=X1, y=X2)) + \n",
    "    geom_path(aes(col=id), size=1, show.legend=FALSE)# +\n",
    "    #coord_fixed(xlim=c(0,0.9),ylim=c(0,0.6))\n",
    "\n",
    "p2 <- ggplot(bind_rows(pidi.vpn.curves, .id=\"id\"), aes(x=X1, y=X2)) + \n",
    "    geom_path(aes(col=id), size=1, show.legend=FALSE) #+\n",
    "    #coord_fixed(xlim=c(0,0.9),ylim=c(0,0.6))\n",
    "\n",
    "options(repr.plot.width=12, repr.plot.height=6)\n",
    "grid.arrange(p1, p2, nrow=1, top=\"Procrustes means per VPN for words 'pada' and 'pidi'\")"
   ]
  },
  {
   "cell_type": "code",
   "execution_count": 88,
   "metadata": {},
   "outputs": [],
   "source": [
    "d.curves <- lapply(seq_along(pada.vpn.curves), function(i){\n",
    "    pada.vpn.curves[[i]] - pidi.vpn.curves[[i]]\n",
    "})\n",
    "d.curves <- d.curves[c(1,3,4,5,6)]"
   ]
  },
  {
   "cell_type": "code",
   "execution_count": 89,
   "metadata": {},
   "outputs": [],
   "source": [
    "d.mean <- compute_elastic_proc2d_mean(d.curves, knots = knots, type = \"smooth\", penalty = 2)"
   ]
  },
  {
   "cell_type": "code",
   "execution_count": 93,
   "metadata": {},
   "outputs": [],
   "source": [
    "d.rot <- mean(sapply(d.mean$data_curves, function(curve){\n",
    "        attr(curve, \"rotation\")\n",
    "    }))\n",
    "d.pfits <- lapply(d.mean$data_curves, function(curve){\n",
    "    pfit <- get_procrustes_fit(curve)\n",
    "    theta <- - d.rot\n",
    "    mat <- matrix(c(cos(theta), - sin(theta), sin(theta), cos(theta)), nrow = 2, ncol = 2)\n",
    "    curve <- as.data.frame(as.matrix(pfit[,c(3,4)]) %*% mat)\n",
    "    curve[,1] <- curve[,1] - curve[nrow(curve),1]\n",
    "    curve[,2] <- curve[,2] - curve[nrow(curve),2]\n",
    "    colnames(curve) <- c(\"X1\", \"X2\")\n",
    "    curve\n",
    "})\n",
    "theta <- - d.rot\n",
    "mat <- matrix(c(cos(theta), - sin(theta), sin(theta), cos(theta)), nrow = 2, ncol = 2)\n",
    "curve <- as.data.frame(as.matrix(get_evals(d.mean)) %*% mat)\n",
    "curve[,1] <- curve[,1] - curve[nrow(curve),1]\n",
    "curve[,2] <- curve[,2] - curve[nrow(curve),2]\n",
    "colnames(curve) <- c(\"X1\", \"X2\")\n",
    "d.mean.rot <- curve"
   ]
  },
  {
   "cell_type": "code",
   "execution_count": 96,
   "metadata": {},
   "outputs": [
    {
     "data": {
      "image/png": "[encoded data removed]",
      "text/plain": [
       "plot without title"
      ]
     },
     "metadata": {
      "image/png": {
       "height": 360,
       "width": 720
      }
     },
     "output_type": "display_data"
    }
   ],
   "source": [
    "ggplot(bind_rows(d.pfits, .id=\"id\"), aes(x=X1, y=X2)) + \n",
    "    geom_path(size=0.5, aes(group=id), color=\"grey\", alpha=0.7) +\n",
    "    geom_path(data=d.mean.rot, aes(x=X1, y=X2), size=1, color=\"red\")"
   ]
  }
 ],
 "metadata": {
  "kernelspec": {
   "display_name": "R",
   "language": "R",
   "name": "ir"
  },
  "language_info": {
   "codemirror_mode": "r",
   "file_extension": ".r",
   "mimetype": "text/x-r-source",
   "name": "R",
   "pygments_lexer": "r",
   "version": "4.0.5"
  }
 },
 "nbformat": 4,
 "nbformat_minor": 4
}
